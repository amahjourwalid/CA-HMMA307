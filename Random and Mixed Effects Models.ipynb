{
 "cells": [
  {
   "cell_type": "markdown",
   "metadata": {},
   "source": [
    "# Random and Mixed Effects Models"
   ]
  },
  {
   "cell_type": "markdown",
   "metadata": {},
   "source": [
    "## 1.1 Random Effects Models"
   ]
  },
  {
   "cell_type": "markdown",
   "metadata": {},
   "source": [
    "### 1.1.1 One-Way ANOVA"
   ]
  },
  {
   "cell_type": "code",
   "execution_count": 1,
   "metadata": {},
   "outputs": [],
   "source": [
    "import pandas as pd\n",
    "import seaborn as sb\n",
    "import numpy as np\n",
    "import statsmodels.formula.api as smf\n",
    "import statsmodels.api as sm\n",
    "import matplotlib.pyplot as plt\n",
    "from statsmodels.formula.api import ols"
   ]
  },
  {
   "cell_type": "code",
   "execution_count": 2,
   "metadata": {},
   "outputs": [
    {
     "name": "stdout",
     "output_type": "stream",
     "text": [
      "<class 'pandas.core.frame.DataFrame'>\n",
      "RangeIndex: 40 entries, 0 to 39\n",
      "Data columns (total 2 columns):\n",
      " #   Column  Non-Null Count  Dtype   \n",
      "---  ------  --------------  -----   \n",
      " 0   weight  40 non-null     int64   \n",
      " 1   sire    40 non-null     category\n",
      "dtypes: category(1), int64(1)\n",
      "memory usage: 688.0 bytes\n"
     ]
    }
   ],
   "source": [
    "weight = [61, 100,  56, 113,  99, 103,  75,  62,  ## sire 1\n",
    "            75, 102,  95, 103,  98, 115,  98,  94,  ## sire 2\n",
    "            58,  60,  60,  57,  57,  59,  54, 100,  ## sire 3\n",
    "            57,  56,  67,  59,  58, 121, 101, 101,  ## sire 4\n",
    "            59,  46, 120, 115, 115,  93, 105,  75 ] ## sire 5\n",
    "sire=np.array([1,2,3,4,5])\n",
    "sire=np.repeat(sire,8, axis=0)\n",
    "animals = {'weight': weight, 'sire': pd.Categorical(sire)}\n",
    "animals = pd.DataFrame(data=animals)\n",
    "animals.info()"
   ]
  },
  {
   "cell_type": "code",
   "execution_count": 3,
   "metadata": {},
   "outputs": [
    {
     "data": {
      "text/plain": [
       "<matplotlib.axes._subplots.AxesSubplot at 0x1d9aa4003d0>"
      ]
     },
     "execution_count": 3,
     "metadata": {},
     "output_type": "execute_result"
    },
    {
     "data": {
      "image/png": "[encoded data removed]",
      "text/plain": [
       "<Figure size 432x288 with 1 Axes>"
      ]
     },
     "metadata": {
      "needs_background": "light"
     },
     "output_type": "display_data"
    }
   ],
   "source": [
    "sb.stripplot(x=\"sire\", y=\"weight\" ,data=animals, size=10, edgecolor='red', linewidth=0.5, ax=None, dodge=True, hue=\"sire\")"
   ]
  },
  {
   "cell_type": "markdown",
   "metadata": {},
   "source": [
    "At first sight it looks like the variation between different sires is rather small"
   ]
  },
  {
   "cell_type": "code",
   "execution_count": 4,
   "metadata": {},
   "outputs": [
    {
     "name": "stdout",
     "output_type": "stream",
     "text": [
      "         Mixed Linear Model Regression Results\n",
      "=======================================================\n",
      "Model:            MixedLM Dependent Variable: weight   \n",
      "No. Observations: 40      Method:             REML     \n",
      "No. Groups:       5       Scale:              463.7928 \n",
      "Min. group size:  8       Log-Likelihood:     -179.1085\n",
      "Max. group size:  8       Converged:          Yes      \n",
      "Mean group size:  8.0                                  \n",
      "-------------------------------------------------------\n",
      "             Coef.  Std.Err.   z    P>|z| [0.025 0.975]\n",
      "-------------------------------------------------------\n",
      "Intercept    82.550    5.911 13.965 0.000 70.964 94.136\n",
      "sire Var    116.750    6.056                           \n",
      "=======================================================\n",
      "\n"
     ]
    }
   ],
   "source": [
    "md = smf.mixedlm(\"weight ~(1-sire)\", animals, groups=\"sire\" )\n",
    "mdf = md.fit()\n",
    "print(mdf.summary())"
   ]
  },
  {
   "cell_type": "markdown",
   "metadata": {},
   "source": [
    "alpha_hat = 463.7929\n",
    "variance sire =116.750\n",
    "intercept = 82.550"
   ]
  },
  {
   "cell_type": "code",
   "execution_count": 5,
   "metadata": {},
   "outputs": [
    {
     "data": {
      "text/html": [
       "<div>\n",
       "<style scoped>\n",
       "    .dataframe tbody tr th:only-of-type {\n",
       "        vertical-align: middle;\n",
       "    }\n",
       "\n",
       "    .dataframe tbody tr th {\n",
       "        vertical-align: top;\n",
       "    }\n",
       "\n",
       "    .dataframe thead th {\n",
       "        text-align: right;\n",
       "    }\n",
       "</style>\n",
       "<table border=\"1\" class=\"dataframe\">\n",
       "  <thead>\n",
       "    <tr style=\"text-align: right;\">\n",
       "      <th></th>\n",
       "      <th>0</th>\n",
       "      <th>1</th>\n",
       "    </tr>\n",
       "  </thead>\n",
       "  <tbody>\n",
       "    <tr>\n",
       "      <th>Intercept</th>\n",
       "      <td>69.300154</td>\n",
       "      <td>95.799846</td>\n",
       "    </tr>\n",
       "    <tr>\n",
       "      <th>sire Var</th>\n",
       "      <td>-0.378549</td>\n",
       "      <td>0.882005</td>\n",
       "    </tr>\n",
       "  </tbody>\n",
       "</table>\n",
       "</div>"
      ],
      "text/plain": [
       "                   0          1\n",
       "Intercept  69.300154  95.799846\n",
       "sire Var   -0.378549   0.882005"
      ]
     },
     "execution_count": 5,
     "metadata": {},
     "output_type": "execute_result"
    }
   ],
   "source": [
    "mdf.conf_int(alpha=0.025)"
   ]
  },
  {
   "cell_type": "markdown",
   "metadata": {},
   "source": [
    "setting the contrast of the data"
   ]
  },
  {
   "cell_type": "code",
   "execution_count": 6,
   "metadata": {},
   "outputs": [],
   "source": [
    "from patsy.contrasts import Sum\n",
    "levels = [1,2,3,4,5]\n",
    "contrast = Sum().code_without_intercept(levels)"
   ]
  },
  {
   "cell_type": "code",
   "execution_count": 7,
   "metadata": {},
   "outputs": [
    {
     "name": "stdout",
     "output_type": "stream",
     "text": [
      "                sum_sq    df         F    PR(>F)\n",
      "C(sire, Sum)   5591.15   4.0  3.013819  0.030874\n",
      "Residual      16232.75  35.0       NaN       NaN\n"
     ]
    }
   ],
   "source": [
    "aov = ols('weight ~ C(sire, Sum)',data=animals).fit()\n",
    "table = sm.stats.anova_lm(aov, typ=2) # Type 2 ANOVA DataFrame\n",
    "print(table)"
   ]
  },
  {
   "cell_type": "code",
   "execution_count": 8,
   "metadata": {},
   "outputs": [
    {
     "data": {
      "text/html": [
       "<div>\n",
       "<style scoped>\n",
       "    .dataframe tbody tr th:only-of-type {\n",
       "        vertical-align: middle;\n",
       "    }\n",
       "\n",
       "    .dataframe tbody tr th {\n",
       "        vertical-align: top;\n",
       "    }\n",
       "\n",
       "    .dataframe thead th {\n",
       "        text-align: right;\n",
       "    }\n",
       "</style>\n",
       "<table border=\"1\" class=\"dataframe\">\n",
       "  <thead>\n",
       "    <tr style=\"text-align: right;\">\n",
       "      <th></th>\n",
       "      <th>0</th>\n",
       "      <th>1</th>\n",
       "    </tr>\n",
       "  </thead>\n",
       "  <tbody>\n",
       "    <tr>\n",
       "      <th>Intercept</th>\n",
       "      <td>75.637245</td>\n",
       "      <td>89.462755</td>\n",
       "    </tr>\n",
       "    <tr>\n",
       "      <th>C(sire, Sum)[S.1]</th>\n",
       "      <td>-12.750510</td>\n",
       "      <td>14.900510</td>\n",
       "    </tr>\n",
       "    <tr>\n",
       "      <th>C(sire, Sum)[S.2]</th>\n",
       "      <td>1.124490</td>\n",
       "      <td>28.775510</td>\n",
       "    </tr>\n",
       "    <tr>\n",
       "      <th>C(sire, Sum)[S.3]</th>\n",
       "      <td>-33.250510</td>\n",
       "      <td>-5.599490</td>\n",
       "    </tr>\n",
       "    <tr>\n",
       "      <th>C(sire, Sum)[S.4]</th>\n",
       "      <td>-18.875510</td>\n",
       "      <td>8.775510</td>\n",
       "    </tr>\n",
       "  </tbody>\n",
       "</table>\n",
       "</div>"
      ],
      "text/plain": [
       "                           0          1\n",
       "Intercept          75.637245  89.462755\n",
       "C(sire, Sum)[S.1] -12.750510  14.900510\n",
       "C(sire, Sum)[S.2]   1.124490  28.775510\n",
       "C(sire, Sum)[S.3] -33.250510  -5.599490\n",
       "C(sire, Sum)[S.4] -18.875510   8.775510"
      ]
     },
     "execution_count": 8,
     "metadata": {},
     "output_type": "execute_result"
    }
   ],
   "source": [
    "aov.conf_int(alpha=0.05)"
   ]
  },
  {
   "cell_type": "code",
   "execution_count": 9,
   "metadata": {},
   "outputs": [
    {
     "data": {
      "text/plain": [
       "{1: sire    0.71831\n",
       " dtype: float64,\n",
       " 2: sire    9.989525\n",
       " dtype: float64,\n",
       " 3: sire   -12.9797\n",
       " dtype: float64,\n",
       " 4: sire   -3.374388\n",
       " dtype: float64,\n",
       " 5: sire    5.646253\n",
       " dtype: float64}"
      ]
     },
     "execution_count": 9,
     "metadata": {},
     "output_type": "execute_result"
    }
   ],
   "source": [
    "randomeffect=mdf.random_effects\n",
    "randomeffect"
   ]
  },
  {
   "cell_type": "code",
   "execution_count": 10,
   "metadata": {},
   "outputs": [
    {
     "data": {
      "image/png": "[encoded data removed]",
      "text/plain": [
       "<Figure size 432x288 with 1 Axes>"
      ]
     },
     "metadata": {
      "needs_background": "light"
     },
     "output_type": "display_data"
    }
   ],
   "source": [
    "x=np.array(mdf.fittedvalues)\n",
    "y=np.array(mdf.resid)\n",
    "#fig, ax = plt.subplots()\n",
    "plt.scatter(x, y,s = 150, c = 'red', marker = '.')\n",
    "plt.title('TA plot')\n",
    "plt.ylabel('Pearson Residuals')\n",
    "plt.xlabel('Fitted values')\n",
    "plt.show()"
   ]
  },
  {
   "cell_type": "code",
   "execution_count": 11,
   "metadata": {},
   "outputs": [
    {
     "data": {
      "image/png": "[encoded data removed]",
      "text/plain": [
       "<Figure size 432x288 with 1 Axes>"
      ]
     },
     "metadata": {
      "needs_background": "light"
     },
     "output_type": "display_data"
    },
    {
     "data": {
      "image/png": "[encoded data removed]",
      "text/plain": [
       "<Figure size 432x288 with 1 Axes>"
      ]
     },
     "metadata": {
      "needs_background": "light"
     },
     "output_type": "display_data"
    }
   ],
   "source": [
    "Y_hat=np.random.normal(0,1,40)\n",
    "Y_hat2=np.random.normal(0,1,5)\n",
    "pp_x2=sm.ProbPlot(np.array([1,2,3,4,5]), fit=True)\n",
    "pp_y2=sm.ProbPlot(Y_hat2, fit=True)\n",
    "pp_x = sm.ProbPlot(y, fit=True)\n",
    "pp_y = sm.ProbPlot(Y_hat, fit=True)\n",
    "fig1= pp_x.qqplot(pp_y)\n",
    "fig1.suptitle('Risiduals', fontsize=16)\n",
    "fig1=plt.xlabel('theoretical quaniles')\n",
    "fig2=pp_x2.qqplot(pp_y2)\n",
    "fig2.suptitle('Random Effects', fontsize=16)\n",
    "fig2=plt.xlabel('theoretical quaniles')\n",
    "plt.xlim(-2, 2)\n",
    "plt.show()"
   ]
  },
  {
   "cell_type": "markdown",
   "metadata": {},
   "source": [
    "### 1.1.2 More Than One Factor"
   ]
  },
  {
   "cell_type": "code",
   "execution_count": 12,
   "metadata": {},
   "outputs": [
    {
     "name": "stdout",
     "output_type": "stream",
     "text": [
      "<class 'pandas.core.frame.DataFrame'>\n",
      "RangeIndex: 32 entries, 0 to 31\n",
      "Data columns (total 3 columns):\n",
      " #   Column   Non-Null Count  Dtype   \n",
      "---  ------   --------------  -----   \n",
      " 0   y        32 non-null     float64 \n",
      " 1   day      32 non-null     category\n",
      " 2   machine  32 non-null     category\n",
      "dtypes: category(2), float64(1)\n",
      "memory usage: 832.0 bytes\n",
      "Int64Index([1, 2, 3, 4], dtype='int64')\n",
      "Int64Index([1, 2, 3, 4], dtype='int64')\n"
     ]
    }
   ],
   "source": [
    "y = [142.3, 144.0, 148.6, 146.9, 142.9, 147.4, 133.8, 133.2, \n",
    "       134.9, 146.3, 145.2, 146.3, 125.9, 127.6, 108.9, 107.5,\n",
    "       148.6, 156.5, 148.6, 153.1, 135.5, 138.9, 132.1, 149.7, \n",
    "       152.0, 151.4, 149.7, 152.0, 142.9, 142.3, 141.7, 141.2] \n",
    "fac=np.array([1,2,3,4])\n",
    "day=np.repeat(fac,8, axis=0)\n",
    "machine=np.concatenate((np.repeat(fac,2, axis=0), np.repeat(fac,2, axis=0),np.repeat(fac,2, axis=0),np.repeat(fac,2, axis=0)))\n",
    "trigly = {'y': y , 'day': pd.Categorical(day), 'machine': pd.Categorical(machine)}\n",
    "trigly = pd.DataFrame(data=trigly)\n",
    "trigly.info()\n",
    "print(pd.Categorical(day).categories)\n",
    "print(pd.Categorical(machine).categories)"
   ]
  },
  {
   "cell_type": "code",
   "execution_count": 13,
   "metadata": {},
   "outputs": [
    {
     "data": {
      "text/html": [
       "<div>\n",
       "<style scoped>\n",
       "    .dataframe tbody tr th:only-of-type {\n",
       "        vertical-align: middle;\n",
       "    }\n",
       "\n",
       "    .dataframe tbody tr th {\n",
       "        vertical-align: top;\n",
       "    }\n",
       "\n",
       "    .dataframe thead th {\n",
       "        text-align: right;\n",
       "    }\n",
       "</style>\n",
       "<table border=\"1\" class=\"dataframe\">\n",
       "  <thead>\n",
       "    <tr style=\"text-align: right;\">\n",
       "      <th>machine</th>\n",
       "      <th>1</th>\n",
       "      <th>2</th>\n",
       "      <th>3</th>\n",
       "      <th>4</th>\n",
       "    </tr>\n",
       "    <tr>\n",
       "      <th>day</th>\n",
       "      <th></th>\n",
       "      <th></th>\n",
       "      <th></th>\n",
       "      <th></th>\n",
       "    </tr>\n",
       "  </thead>\n",
       "  <tbody>\n",
       "    <tr>\n",
       "      <th>1</th>\n",
       "      <td>2</td>\n",
       "      <td>2</td>\n",
       "      <td>2</td>\n",
       "      <td>2</td>\n",
       "    </tr>\n",
       "    <tr>\n",
       "      <th>2</th>\n",
       "      <td>2</td>\n",
       "      <td>2</td>\n",
       "      <td>2</td>\n",
       "      <td>2</td>\n",
       "    </tr>\n",
       "    <tr>\n",
       "      <th>3</th>\n",
       "      <td>2</td>\n",
       "      <td>2</td>\n",
       "      <td>2</td>\n",
       "      <td>2</td>\n",
       "    </tr>\n",
       "    <tr>\n",
       "      <th>4</th>\n",
       "      <td>2</td>\n",
       "      <td>2</td>\n",
       "      <td>2</td>\n",
       "      <td>2</td>\n",
       "    </tr>\n",
       "  </tbody>\n",
       "</table>\n",
       "</div>"
      ],
      "text/plain": [
       "machine  1  2  3  4\n",
       "day                \n",
       "1        2  2  2  2\n",
       "2        2  2  2  2\n",
       "3        2  2  2  2\n",
       "4        2  2  2  2"
      ]
     },
     "execution_count": 13,
     "metadata": {},
     "output_type": "execute_result"
    }
   ],
   "source": [
    "pd.crosstab(day, machine,rownames=['day'],colnames=['machine'])"
   ]
  },
  {
   "cell_type": "code",
   "execution_count": 14,
   "metadata": {},
   "outputs": [
    {
     "data": {
      "image/png": "[encoded data removed]",
      "text/plain": [
       "<Figure size 432x432 with 1 Axes>"
      ]
     },
     "metadata": {
      "needs_background": "light"
     },
     "output_type": "display_data"
    }
   ],
   "source": [
    "from statsmodels.graphics.factorplots import interaction_plot\n",
    "fig, ax = plt.subplots(figsize=(6, 6))\n",
    "fig = interaction_plot(x=day, trace=machine, response=y,colors=['red', 'blue','brown','black'], markers=['.', '^','*','D'], ms=10, ax=ax)"
   ]
  },
  {
   "cell_type": "code",
   "execution_count": 36,
   "metadata": {},
   "outputs": [
    {
     "name": "stdout",
     "output_type": "stream",
     "text": [
      "         Mixed Linear Model Regression Results\n",
      "=======================================================\n",
      "Model:            MixedLM Dependent Variable: y        \n",
      "No. Observations: 32      Method:             REML     \n",
      "No. Groups:       4       Scale:              85.9580  \n",
      "Min. group size:  8       Log-Likelihood:     -117.5364\n",
      "Max. group size:  8       Converged:          Yes      \n",
      "Mean group size:  8.0                                  \n",
      "-------------------------------------------------------\n",
      "           Coef.  Std.Err.   z    P>|z|  [0.025  0.975]\n",
      "-------------------------------------------------------\n",
      "Intercept 141.184    4.142 34.083 0.000 133.066 149.303\n",
      "Group Var  57.892    6.360                             \n",
      "=======================================================\n",
      "\n"
     ]
    }
   ],
   "source": [
    "md3 = smf.mixedlm(\"y ~  (1-day)+(1-machine) + (1-day*machine) \", trigly, groups=machine)\n",
    "mdf3 = md3.fit()\n",
    "print(mdf3.summary())"
   ]
  },
  {
   "cell_type": "code",
   "execution_count": 49,
   "metadata": {},
   "outputs": [
    {
     "name": "stdout",
     "output_type": "stream",
     "text": [
      "Intercept    34.083152\n",
      "Group Var     0.981764\n",
      "dtype: float64\n",
      "              Intercept     Group Var\n",
      "Intercept  1.996215e-01  3.086676e-16\n",
      "Group Var  3.086676e-16  5.474651e-03\n"
     ]
    }
   ],
   "source": [
    "print(mdf3.tvalues)"
   ]
  },
  {
   "cell_type": "markdown",
   "metadata": {},
   "source": [
    "### 1.1.3 Nesting"
   ]
  },
  {
   "cell_type": "code",
   "execution_count": null,
   "metadata": {},
   "outputs": [],
   "source": []
  }
 ],
 "metadata": {
  "kernelspec": {
   "display_name": "Python 3",
   "language": "python",
   "name": "python3"
  },
  "language_info": {
   "codemirror_mode": {
    "name": "ipython",
    "version": 3
   },
   "file_extension": ".py",
   "mimetype": "text/x-python",
   "name": "python",
   "nbconvert_exporter": "python",
   "pygments_lexer": "ipython3",
   "version": "3.8.3"
  }
 },
 "nbformat": 4,
 "nbformat_minor": 4
}
