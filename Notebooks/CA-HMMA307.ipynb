{
 "cells": [
  {
   "cell_type": "markdown",
   "metadata": {},
   "source": [
    "# Application of anova on O3 levels in Occitania:"
   ]
  },
  {
   "cell_type": "markdown",
   "metadata": {},
   "source": [
    "The purpose of this data analysis is to find out if there is a significant difference in ozone levels $ O3 $ between Toulouse, Montpellier, Perpignan and Albi.\n",
    "\n",
    "To do so, we will proceed to $ Anova $ to test the following hypotheses:\n",
    "\n",
    "$ H_0 $: _on average the ozone level in each city is the same_ against $ H_1 $: _on average the ozone level differs from one city to another_.\n",
    "\n",
    "Before carrying out this test, we are going to clean the data set and we will keep, for our study, only the variables that we need to establish a result regarding the problem mentioned above."
   ]
  },
  {
   "cell_type": "code",
   "execution_count": 1,
   "metadata": {},
   "outputs": [],
   "source": [
    "import numpy as np\n",
    "import pandas as pd\n",
    "import matplotlib.pyplot as plt\n",
    "import seaborn as sns\n",
    "from ipywidgets import interact\n",
    "from download import download"
   ]
  },
  {
   "cell_type": "markdown",
   "metadata": {},
   "source": [
    "Data recovery:"
   ]
  },
  {
   "cell_type": "code",
   "execution_count": 2,
   "metadata": {},
   "outputs": [
    {
     "name": "stdout",
     "output_type": "stream",
     "text": [
      "Replace is False and data exists, so doing nothing. Use replace==True to re-download the data.\n"
     ]
    },
    {
     "data": {
      "text/plain": [
       "'./Mesure_journaliere_Region_Occitanie_Polluants_Principaux.csv'"
      ]
     },
     "execution_count": 2,
     "metadata": {},
     "output_type": "execute_result"
    }
   ],
   "source": [
    "url=\"http://josephsalmon.eu/enseignement/datasets/Mesure_journaliere_Region_Occitanie_Polluants_Principaux.csv\"\n",
    "path_target=\"./Mesure_journaliere_Region_Occitanie_Polluants_Principaux.csv\"\n",
    "download(url,path_target,replace=False)\n",
    "\n",
    "\n"
   ]
  },
  {
   "cell_type": "code",
   "execution_count": 3,
   "metadata": {},
   "outputs": [],
   "source": [
    "df_poccitanie=pd.read_csv(\"Mesure_journaliere_Region_Occitanie_Polluants_Principaux.csv\")"
   ]
  },
  {
   "cell_type": "code",
   "execution_count": 4,
   "metadata": {},
   "outputs": [
    {
     "name": "stdout",
     "output_type": "stream",
     "text": [
      "(20808, 24)\n"
     ]
    }
   ],
   "source": [
    "print(df_poccitanie.shape)"
   ]
  },
  {
   "cell_type": "markdown",
   "metadata": {},
   "source": [
    "The data table made up of 20,808 individuals and 24 variables."
   ]
  },
  {
   "cell_type": "code",
   "execution_count": 5,
   "metadata": {},
   "outputs": [
    {
     "data": {
      "text/plain": [
       "Index(['X', 'Y', 'id', 'nom_dep', 'nom_com', 'code_insee', 'nom_station',\n",
       "       'code_station', 'typologie', 'influence', 'polluant', 'id_poll_ue',\n",
       "       'valeur_originale', 'code_unite_concentration', 'metrique',\n",
       "       'date_debut', 'date_fin', 'statut_valid', 'x_l93', 'y_l93', 'x_wgs84',\n",
       "       'y_wgs84', 'geom', 'FID', 'day'],\n",
       "      dtype='object')"
      ]
     },
     "execution_count": 5,
     "metadata": {},
     "output_type": "execute_result"
    }
   ],
   "source": [
    "df_poccitanie['day'] = pd.to_datetime(df_poccitanie['date_debut'])\n",
    "df_poccitanie.columns"
   ]
  },
  {
   "cell_type": "markdown",
   "metadata": {},
   "source": [
    "Histogramme of pollutants:"
   ]
  },
  {
   "cell_type": "code",
   "execution_count": 6,
   "metadata": {},
   "outputs": [
    {
     "data": {
      "text/plain": [
       "Text(0.5, 1.0, 'Taux des polluants dans les villes')"
      ]
     },
     "execution_count": 6,
     "metadata": {},
     "output_type": "execute_result"
    },
    {
     "data": {
      "image/png": "[encoded data removed]",
      "text/plain": [
       "<Figure size 576x576 with 1 Axes>"
      ]
     },
     "metadata": {
      "needs_background": "light"
     },
     "output_type": "display_data"
    }
   ],
   "source": [
    "plt.figure(figsize=(8,8))\n",
    "plt.hist(df_poccitanie['polluant'],density=True,bins=50)\n",
    "plt.xlabel(\"Polluant\")\n",
    "plt.ylabel(\"Taux du polluant\")\n",
    "plt.title(\"Taux des polluants dans les villes\")\n"
   ]
  },
  {
   "cell_type": "markdown",
   "metadata": {},
   "source": [
    "The pollutant \"O3\" stands out from the rest. Indeed, it is the pollutant that is found the most in the towns of the Occitanie region.\n",
    "\n",
    "We are therefore going to base our study on this pollutant. For that we will create a new table which contains only the modality \"O3\" for the variable $ pollutant $"
   ]
  },
  {
   "cell_type": "code",
   "execution_count": 7,
   "metadata": {},
   "outputs": [
    {
     "data": {
      "text/html": [
       "<div>\n",
       "<style scoped>\n",
       "    .dataframe tbody tr th:only-of-type {\n",
       "        vertical-align: middle;\n",
       "    }\n",
       "\n",
       "    .dataframe tbody tr th {\n",
       "        vertical-align: top;\n",
       "    }\n",
       "\n",
       "    .dataframe thead th {\n",
       "        text-align: right;\n",
       "    }\n",
       "</style>\n",
       "<table border=\"1\" class=\"dataframe\">\n",
       "  <thead>\n",
       "    <tr style=\"text-align: right;\">\n",
       "      <th></th>\n",
       "      <th>X</th>\n",
       "      <th>Y</th>\n",
       "      <th>id</th>\n",
       "      <th>nom_dep</th>\n",
       "      <th>nom_com</th>\n",
       "      <th>code_insee</th>\n",
       "      <th>nom_station</th>\n",
       "      <th>code_station</th>\n",
       "      <th>typologie</th>\n",
       "      <th>influence</th>\n",
       "      <th>...</th>\n",
       "      <th>date_debut</th>\n",
       "      <th>date_fin</th>\n",
       "      <th>statut_valid</th>\n",
       "      <th>x_l93</th>\n",
       "      <th>y_l93</th>\n",
       "      <th>x_wgs84</th>\n",
       "      <th>y_wgs84</th>\n",
       "      <th>geom</th>\n",
       "      <th>FID</th>\n",
       "      <th>day</th>\n",
       "    </tr>\n",
       "  </thead>\n",
       "  <tbody>\n",
       "    <tr>\n",
       "      <td>0</td>\n",
       "      <td>1.41861</td>\n",
       "      <td>43.5756</td>\n",
       "      <td>12001</td>\n",
       "      <td>HAUTE-GARONNE</td>\n",
       "      <td>TOULOUSE</td>\n",
       "      <td>31555</td>\n",
       "      <td>Toulouse-Jacquier Urbain\\n</td>\n",
       "      <td>FR12004</td>\n",
       "      <td>urban</td>\n",
       "      <td>Fond</td>\n",
       "      <td>...</td>\n",
       "      <td>2017-12-15T01:00:00.000Z</td>\n",
       "      <td>2017-12-16T00:00:00.000Z</td>\n",
       "      <td>t</td>\n",
       "      <td>572227</td>\n",
       "      <td>6276450</td>\n",
       "      <td>1.41861</td>\n",
       "      <td>43.5756</td>\n",
       "      <td>0101000020E610000000000080A1B2F63F000000E0ABC9...</td>\n",
       "      <td>12001</td>\n",
       "      <td>2017-12-15 01:00:00+00:00</td>\n",
       "    </tr>\n",
       "    <tr>\n",
       "      <td>1</td>\n",
       "      <td>1.41861</td>\n",
       "      <td>43.5756</td>\n",
       "      <td>12002</td>\n",
       "      <td>HAUTE-GARONNE</td>\n",
       "      <td>TOULOUSE</td>\n",
       "      <td>31555</td>\n",
       "      <td>Toulouse-Jacquier Urbain\\n</td>\n",
       "      <td>FR12004</td>\n",
       "      <td>urban</td>\n",
       "      <td>Fond</td>\n",
       "      <td>...</td>\n",
       "      <td>2017-12-16T01:00:00.000Z</td>\n",
       "      <td>2017-12-17T00:00:00.000Z</td>\n",
       "      <td>t</td>\n",
       "      <td>572227</td>\n",
       "      <td>6276450</td>\n",
       "      <td>1.41861</td>\n",
       "      <td>43.5756</td>\n",
       "      <td>0101000020E610000000000080A1B2F63F000000E0ABC9...</td>\n",
       "      <td>12002</td>\n",
       "      <td>2017-12-16 01:00:00+00:00</td>\n",
       "    </tr>\n",
       "    <tr>\n",
       "      <td>2</td>\n",
       "      <td>1.41861</td>\n",
       "      <td>43.5756</td>\n",
       "      <td>12003</td>\n",
       "      <td>HAUTE-GARONNE</td>\n",
       "      <td>TOULOUSE</td>\n",
       "      <td>31555</td>\n",
       "      <td>Toulouse-Jacquier Urbain\\n</td>\n",
       "      <td>FR12004</td>\n",
       "      <td>urban</td>\n",
       "      <td>Fond</td>\n",
       "      <td>...</td>\n",
       "      <td>2017-12-17T01:00:00.000Z</td>\n",
       "      <td>2017-12-18T00:00:00.000Z</td>\n",
       "      <td>t</td>\n",
       "      <td>572227</td>\n",
       "      <td>6276450</td>\n",
       "      <td>1.41861</td>\n",
       "      <td>43.5756</td>\n",
       "      <td>0101000020E610000000000080A1B2F63F000000E0ABC9...</td>\n",
       "      <td>12003</td>\n",
       "      <td>2017-12-17 01:00:00+00:00</td>\n",
       "    </tr>\n",
       "  </tbody>\n",
       "</table>\n",
       "<p>3 rows × 25 columns</p>\n",
       "</div>"
      ],
      "text/plain": [
       "         X        Y     id        nom_dep   nom_com  code_insee  \\\n",
       "0  1.41861  43.5756  12001  HAUTE-GARONNE  TOULOUSE       31555   \n",
       "1  1.41861  43.5756  12002  HAUTE-GARONNE  TOULOUSE       31555   \n",
       "2  1.41861  43.5756  12003  HAUTE-GARONNE  TOULOUSE       31555   \n",
       "\n",
       "                  nom_station code_station typologie influence  ...  \\\n",
       "0  Toulouse-Jacquier Urbain\\n      FR12004     urban      Fond  ...   \n",
       "1  Toulouse-Jacquier Urbain\\n      FR12004     urban      Fond  ...   \n",
       "2  Toulouse-Jacquier Urbain\\n      FR12004     urban      Fond  ...   \n",
       "\n",
       "                 date_debut                  date_fin  statut_valid   x_l93  \\\n",
       "0  2017-12-15T01:00:00.000Z  2017-12-16T00:00:00.000Z             t  572227   \n",
       "1  2017-12-16T01:00:00.000Z  2017-12-17T00:00:00.000Z             t  572227   \n",
       "2  2017-12-17T01:00:00.000Z  2017-12-18T00:00:00.000Z             t  572227   \n",
       "\n",
       "     y_l93  x_wgs84  y_wgs84  \\\n",
       "0  6276450  1.41861  43.5756   \n",
       "1  6276450  1.41861  43.5756   \n",
       "2  6276450  1.41861  43.5756   \n",
       "\n",
       "                                                geom    FID  \\\n",
       "0  0101000020E610000000000080A1B2F63F000000E0ABC9...  12001   \n",
       "1  0101000020E610000000000080A1B2F63F000000E0ABC9...  12002   \n",
       "2  0101000020E610000000000080A1B2F63F000000E0ABC9...  12003   \n",
       "\n",
       "                        day  \n",
       "0 2017-12-15 01:00:00+00:00  \n",
       "1 2017-12-16 01:00:00+00:00  \n",
       "2 2017-12-17 01:00:00+00:00  \n",
       "\n",
       "[3 rows x 25 columns]"
      ]
     },
     "execution_count": 7,
     "metadata": {},
     "output_type": "execute_result"
    }
   ],
   "source": [
    "df_poccitanieO3=df_poccitanie.loc[df_poccitanie['polluant']==\"O3\",:]\n",
    "df_poccitanieO3.head(3)"
   ]
  },
  {
   "cell_type": "markdown",
   "metadata": {},
   "source": [
    "New table containing only the \"O3\" modality for the _polluant_ variable and the cities of Montpellier, Toulouse, Perpignan and Albi for the _name_com_ variable. We will then create a new table containing only the variables that we will use for our study."
   ]
  },
  {
   "cell_type": "code",
   "execution_count": 8,
   "metadata": {},
   "outputs": [],
   "source": [
    "df_poccitanieO3_ville=df_poccitanieO3.loc[df_poccitanieO3['nom_com'].isin([\"MONTPELLIER\",\"TOULOUSE\",\"PERPIGNAN\",\"ALBI\"]),:]\n"
   ]
  },
  {
   "cell_type": "code",
   "execution_count": 9,
   "metadata": {},
   "outputs": [
    {
     "data": {
      "text/html": [
       "<div>\n",
       "<style scoped>\n",
       "    .dataframe tbody tr th:only-of-type {\n",
       "        vertical-align: middle;\n",
       "    }\n",
       "\n",
       "    .dataframe tbody tr th {\n",
       "        vertical-align: top;\n",
       "    }\n",
       "\n",
       "    .dataframe thead th {\n",
       "        text-align: right;\n",
       "    }\n",
       "</style>\n",
       "<table border=\"1\" class=\"dataframe\">\n",
       "  <thead>\n",
       "    <tr style=\"text-align: right;\">\n",
       "      <th></th>\n",
       "      <th>X</th>\n",
       "      <th>Y</th>\n",
       "      <th>id</th>\n",
       "      <th>nom_dep</th>\n",
       "      <th>nom_com</th>\n",
       "      <th>code_insee</th>\n",
       "      <th>nom_station</th>\n",
       "      <th>code_station</th>\n",
       "      <th>typologie</th>\n",
       "      <th>influence</th>\n",
       "      <th>...</th>\n",
       "      <th>date_debut</th>\n",
       "      <th>date_fin</th>\n",
       "      <th>statut_valid</th>\n",
       "      <th>x_l93</th>\n",
       "      <th>y_l93</th>\n",
       "      <th>x_wgs84</th>\n",
       "      <th>y_wgs84</th>\n",
       "      <th>geom</th>\n",
       "      <th>FID</th>\n",
       "      <th>day</th>\n",
       "    </tr>\n",
       "  </thead>\n",
       "  <tbody>\n",
       "    <tr>\n",
       "      <td>0</td>\n",
       "      <td>1.41861</td>\n",
       "      <td>43.5756</td>\n",
       "      <td>12001</td>\n",
       "      <td>HAUTE-GARONNE</td>\n",
       "      <td>TOULOUSE</td>\n",
       "      <td>31555</td>\n",
       "      <td>Toulouse-Jacquier Urbain\\n</td>\n",
       "      <td>FR12004</td>\n",
       "      <td>urban</td>\n",
       "      <td>Fond</td>\n",
       "      <td>...</td>\n",
       "      <td>2017-12-15T01:00:00.000Z</td>\n",
       "      <td>2017-12-16T00:00:00.000Z</td>\n",
       "      <td>t</td>\n",
       "      <td>572227</td>\n",
       "      <td>6276450</td>\n",
       "      <td>1.41861</td>\n",
       "      <td>43.5756</td>\n",
       "      <td>0101000020E610000000000080A1B2F63F000000E0ABC9...</td>\n",
       "      <td>12001</td>\n",
       "      <td>2017-12-15 01:00:00+00:00</td>\n",
       "    </tr>\n",
       "    <tr>\n",
       "      <td>1</td>\n",
       "      <td>1.41861</td>\n",
       "      <td>43.5756</td>\n",
       "      <td>12002</td>\n",
       "      <td>HAUTE-GARONNE</td>\n",
       "      <td>TOULOUSE</td>\n",
       "      <td>31555</td>\n",
       "      <td>Toulouse-Jacquier Urbain\\n</td>\n",
       "      <td>FR12004</td>\n",
       "      <td>urban</td>\n",
       "      <td>Fond</td>\n",
       "      <td>...</td>\n",
       "      <td>2017-12-16T01:00:00.000Z</td>\n",
       "      <td>2017-12-17T00:00:00.000Z</td>\n",
       "      <td>t</td>\n",
       "      <td>572227</td>\n",
       "      <td>6276450</td>\n",
       "      <td>1.41861</td>\n",
       "      <td>43.5756</td>\n",
       "      <td>0101000020E610000000000080A1B2F63F000000E0ABC9...</td>\n",
       "      <td>12002</td>\n",
       "      <td>2017-12-16 01:00:00+00:00</td>\n",
       "    </tr>\n",
       "    <tr>\n",
       "      <td>2</td>\n",
       "      <td>1.41861</td>\n",
       "      <td>43.5756</td>\n",
       "      <td>12003</td>\n",
       "      <td>HAUTE-GARONNE</td>\n",
       "      <td>TOULOUSE</td>\n",
       "      <td>31555</td>\n",
       "      <td>Toulouse-Jacquier Urbain\\n</td>\n",
       "      <td>FR12004</td>\n",
       "      <td>urban</td>\n",
       "      <td>Fond</td>\n",
       "      <td>...</td>\n",
       "      <td>2017-12-17T01:00:00.000Z</td>\n",
       "      <td>2017-12-18T00:00:00.000Z</td>\n",
       "      <td>t</td>\n",
       "      <td>572227</td>\n",
       "      <td>6276450</td>\n",
       "      <td>1.41861</td>\n",
       "      <td>43.5756</td>\n",
       "      <td>0101000020E610000000000080A1B2F63F000000E0ABC9...</td>\n",
       "      <td>12003</td>\n",
       "      <td>2017-12-17 01:00:00+00:00</td>\n",
       "    </tr>\n",
       "  </tbody>\n",
       "</table>\n",
       "<p>3 rows × 25 columns</p>\n",
       "</div>"
      ],
      "text/plain": [
       "         X        Y     id        nom_dep   nom_com  code_insee  \\\n",
       "0  1.41861  43.5756  12001  HAUTE-GARONNE  TOULOUSE       31555   \n",
       "1  1.41861  43.5756  12002  HAUTE-GARONNE  TOULOUSE       31555   \n",
       "2  1.41861  43.5756  12003  HAUTE-GARONNE  TOULOUSE       31555   \n",
       "\n",
       "                  nom_station code_station typologie influence  ...  \\\n",
       "0  Toulouse-Jacquier Urbain\\n      FR12004     urban      Fond  ...   \n",
       "1  Toulouse-Jacquier Urbain\\n      FR12004     urban      Fond  ...   \n",
       "2  Toulouse-Jacquier Urbain\\n      FR12004     urban      Fond  ...   \n",
       "\n",
       "                 date_debut                  date_fin  statut_valid   x_l93  \\\n",
       "0  2017-12-15T01:00:00.000Z  2017-12-16T00:00:00.000Z             t  572227   \n",
       "1  2017-12-16T01:00:00.000Z  2017-12-17T00:00:00.000Z             t  572227   \n",
       "2  2017-12-17T01:00:00.000Z  2017-12-18T00:00:00.000Z             t  572227   \n",
       "\n",
       "     y_l93  x_wgs84  y_wgs84  \\\n",
       "0  6276450  1.41861  43.5756   \n",
       "1  6276450  1.41861  43.5756   \n",
       "2  6276450  1.41861  43.5756   \n",
       "\n",
       "                                                geom    FID  \\\n",
       "0  0101000020E610000000000080A1B2F63F000000E0ABC9...  12001   \n",
       "1  0101000020E610000000000080A1B2F63F000000E0ABC9...  12002   \n",
       "2  0101000020E610000000000080A1B2F63F000000E0ABC9...  12003   \n",
       "\n",
       "                        day  \n",
       "0 2017-12-15 01:00:00+00:00  \n",
       "1 2017-12-16 01:00:00+00:00  \n",
       "2 2017-12-17 01:00:00+00:00  \n",
       "\n",
       "[3 rows x 25 columns]"
      ]
     },
     "execution_count": 9,
     "metadata": {},
     "output_type": "execute_result"
    }
   ],
   "source": [
    "df_poccitanieO3_ville.head(3)"
   ]
  },
  {
   "cell_type": "code",
   "execution_count": 10,
   "metadata": {},
   "outputs": [
    {
     "data": {
      "text/plain": [
       "Text(0.5, 1.0, 'Taux de O3 par ville')"
      ]
     },
     "execution_count": 10,
     "metadata": {},
     "output_type": "execute_result"
    },
    {
     "data": {
      "image/png": "[encoded data removed]",
      "text/plain": [
       "<Figure size 576x576 with 1 Axes>"
      ]
     },
     "metadata": {
      "needs_background": "light"
     },
     "output_type": "display_data"
    }
   ],
   "source": [
    "plt.figure(figsize=(8,8))\n",
    "plt.hist(df_poccitanieO3_ville['nom_com'],density=True,bins=50)\n",
    "plt.xlabel(\"Villes\")\n",
    "plt.ylabel(\"Taux de O3\")\n",
    "plt.title(\"Taux de O3 par ville\")"
   ]
  },
  {
   "cell_type": "markdown",
   "metadata": {},
   "source": [
    "The city with the highest O3 rate is Toulouse."
   ]
  },
  {
   "cell_type": "code",
   "execution_count": 11,
   "metadata": {},
   "outputs": [
    {
     "data": {
      "image/png": "[encoded data removed]",
      "text/plain": [
       "<Figure size 360x360 with 1 Axes>"
      ]
     },
     "metadata": {
      "needs_background": "light"
     },
     "output_type": "display_data"
    }
   ],
   "source": [
    "sns.catplot(x=\"polluant\", y=df_poccitanieO3_ville.columns[12],hue=\"nom_com\", data=df_poccitanieO3_ville, \n",
    "            kind=\"violin\", legend=False)\n",
    "plt.title(\"Taux O3 par ville\")\n",
    "plt.legend(loc=1)\n",
    "plt.tight_layout()\n",
    "\n"
   ]
  },
  {
   "cell_type": "markdown",
   "metadata": {},
   "source": [
    "The representation of the data in violin shows that we have as many o3 evaluation in each city."
   ]
  },
  {
   "cell_type": "markdown",
   "metadata": {},
   "source": [
    "The new array that we will use to execute the anova is df_poccitanieO3_ville which also contains 'day':"
   ]
  },
  {
   "cell_type": "code",
   "execution_count": 12,
   "metadata": {},
   "outputs": [],
   "source": [
    "df_poccitanieO3_ville = df_poccitanieO3_ville[['day','polluant','valeur_originale','nom_com']]"
   ]
  },
  {
   "cell_type": "code",
   "execution_count": 13,
   "metadata": {},
   "outputs": [
    {
     "data": {
      "text/html": [
       "<div>\n",
       "<style scoped>\n",
       "    .dataframe tbody tr th:only-of-type {\n",
       "        vertical-align: middle;\n",
       "    }\n",
       "\n",
       "    .dataframe tbody tr th {\n",
       "        vertical-align: top;\n",
       "    }\n",
       "\n",
       "    .dataframe thead th {\n",
       "        text-align: right;\n",
       "    }\n",
       "</style>\n",
       "<table border=\"1\" class=\"dataframe\">\n",
       "  <thead>\n",
       "    <tr style=\"text-align: right;\">\n",
       "      <th></th>\n",
       "      <th>day</th>\n",
       "      <th>polluant</th>\n",
       "      <th>valeur_originale</th>\n",
       "      <th>nom_com</th>\n",
       "    </tr>\n",
       "  </thead>\n",
       "  <tbody>\n",
       "    <tr>\n",
       "      <td>0</td>\n",
       "      <td>2017-12-15 01:00:00+00:00</td>\n",
       "      <td>O3</td>\n",
       "      <td>66.2</td>\n",
       "      <td>TOULOUSE</td>\n",
       "    </tr>\n",
       "    <tr>\n",
       "      <td>1</td>\n",
       "      <td>2017-12-16 01:00:00+00:00</td>\n",
       "      <td>O3</td>\n",
       "      <td>46.0</td>\n",
       "      <td>TOULOUSE</td>\n",
       "    </tr>\n",
       "  </tbody>\n",
       "</table>\n",
       "</div>"
      ],
      "text/plain": [
       "                        day polluant  valeur_originale   nom_com\n",
       "0 2017-12-15 01:00:00+00:00       O3              66.2  TOULOUSE\n",
       "1 2017-12-16 01:00:00+00:00       O3              46.0  TOULOUSE"
      ]
     },
     "execution_count": 13,
     "metadata": {},
     "output_type": "execute_result"
    }
   ],
   "source": [
    "df_poccitanieO3_ville.head(2)"
   ]
  },
  {
   "cell_type": "code",
   "execution_count": 14,
   "metadata": {},
   "outputs": [],
   "source": [
    "import pandas as pd\n",
    "import statsmodels.api as sm\n",
    "from statsmodels.formula.api import ols\n"
   ]
  },
  {
   "cell_type": "code",
   "execution_count": 16,
   "metadata": {},
   "outputs": [
    {
     "data": {
      "text/plain": [
       "<matplotlib.axes._subplots.AxesSubplot at 0x5c1f24fcc8>"
      ]
     },
     "execution_count": 16,
     "metadata": {},
     "output_type": "execute_result"
    },
    {
     "data": {
      "image/png": "[encoded data removed]",
      "text/plain": [
       "<Figure size 432x288 with 1 Axes>"
      ]
     },
     "metadata": {
      "needs_background": "light"
     },
     "output_type": "display_data"
    }
   ],
   "source": [
    "df_poccitanieO3_ville.boxplot('valeur_originale', by='nom_com')"
   ]
  },
  {
   "cell_type": "markdown",
   "metadata": {},
   "source": [
    "The boxplot gives a prognosis as to the result of our problem."
   ]
  },
  {
   "cell_type": "markdown",
   "metadata": {},
   "source": [
    "Anova:"
   ]
  },
  {
   "cell_type": "code",
   "execution_count": 17,
   "metadata": {},
   "outputs": [
    {
     "name": "stdout",
     "output_type": "stream",
     "text": [
      "                 sum_sq      df         F    PR(>F)\n",
      "nom_com    11276.475405     3.0  8.758921  0.000009\n",
      "Residual  795201.028359  1853.0       NaN       NaN\n"
     ]
    }
   ],
   "source": [
    "model1 = ols ('valeur_originale ~ nom_com',data = df_poccitanieO3_ville).fit()\n",
    "aov_table = sm.stats.anova_lm(model1, typ=2)\n",
    "print(aov_table)\n"
   ]
  },
  {
   "cell_type": "markdown",
   "metadata": {},
   "source": [
    "We obtain F = 8.76 > 0.0009, we therefore reject the hypothesis $ H_0 $ that is to say that there is a significant difference in the ozone levels between Toulouse, Montpellier, Perpignan and Albi."
   ]
  }
 ],
 "metadata": {
  "kernelspec": {
   "display_name": "Python 3",
   "language": "python",
   "name": "python3"
  },
  "language_info": {
   "codemirror_mode": {
    "name": "ipython",
    "version": 3
   },
   "file_extension": ".py",
   "mimetype": "text/x-python",
   "name": "python",
   "nbconvert_exporter": "python",
   "pygments_lexer": "ipython3",
   "version": "3.7.4"
  }
 },
 "nbformat": 4,
 "nbformat_minor": 2
}
