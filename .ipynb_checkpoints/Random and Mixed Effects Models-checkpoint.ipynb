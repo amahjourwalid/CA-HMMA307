{
 "cells": [
  {
   "cell_type": "markdown",
   "metadata": {},
   "source": [
    "# Random and Mixed Effects Models"
   ]
  },
  {
   "cell_type": "markdown",
   "metadata": {},
   "source": [
    "## 7.1 Random Effects Models"
   ]
  },
  {
   "cell_type": "markdown",
   "metadata": {},
   "source": [
    "### 7.1.1 One-Way ANOVA"
   ]
  },
  {
   "cell_type": "code",
   "execution_count": 90,
   "metadata": {},
   "outputs": [],
   "source": [
    "import pandas as pd\n",
    "import seaborn as sb\n",
    "import numpy as np\n",
    "import statsmodels.formula.api as smf\n",
    "import statsmodels.api as sm\n",
    "import matplotlib.pyplot as plt"
   ]
  },
  {
   "cell_type": "code",
   "execution_count": 3,
   "metadata": {},
   "outputs": [
    {
     "name": "stdout",
     "output_type": "stream",
     "text": [
      "<class 'pandas.core.frame.DataFrame'>\n",
      "RangeIndex: 40 entries, 0 to 39\n",
      "Data columns (total 2 columns):\n",
      " #   Column  Non-Null Count  Dtype   \n",
      "---  ------  --------------  -----   \n",
      " 0   weight  40 non-null     int64   \n",
      " 1   sire    40 non-null     category\n",
      "dtypes: category(1), int64(1)\n",
      "memory usage: 688.0 bytes\n"
     ]
    }
   ],
   "source": [
    "weight = [61, 100,  56, 113,  99, 103,  75,  62,  ## sire 1\n",
    "            75, 102,  95, 103,  98, 115,  98,  94,  ## sire 2\n",
    "            58,  60,  60,  57,  57,  59,  54, 100,  ## sire 3\n",
    "            57,  56,  67,  59,  58, 121, 101, 101,  ## sire 4\n",
    "            59,  46, 120, 115, 115,  93, 105,  75 ] ## sire 5\n",
    "sire=np.array([1,2,3,4,5])\n",
    "sire=np.repeat(sire,8, axis=0)\n",
    "animals = {'weight': weight, 'sire': pd.Categorical(sire)}\n",
    "animals = pd.DataFrame(data=animals)\n",
    "animals.info()"
   ]
  },
  {
   "cell_type": "code",
   "execution_count": 102,
   "metadata": {},
   "outputs": [
    {
     "data": {
      "text/plain": [
       "<matplotlib.axes._subplots.AxesSubplot at 0x1eb9de10be0>"
      ]
     },
     "execution_count": 102,
     "metadata": {},
     "output_type": "execute_result"
    },
    {
     "data": {
      "image/png": "[encoded data removed]",
      "text/plain": [
       "<Figure size 432x288 with 1 Axes>"
      ]
     },
     "metadata": {
      "needs_background": "light"
     },
     "output_type": "display_data"
    }
   ],
   "source": [
    "sb.stripplot(x=\"sire\", y=\"weight\" ,data=animals, size=10, edgecolor='red', linewidth=0.5, ax=None, dodge=True, hue=\"sire\")"
   ]
  },
  {
   "cell_type": "markdown",
   "metadata": {},
   "source": [
    "At first sight it looks like the variation between different sires is rather small"
   ]
  },
  {
   "cell_type": "code",
   "execution_count": 101,
   "metadata": {},
   "outputs": [
    {
     "name": "stdout",
     "output_type": "stream",
     "text": [
      "         Mixed Linear Model Regression Results\n",
      "=======================================================\n",
      "Model:            MixedLM Dependent Variable: weight   \n",
      "No. Observations: 40      Method:             REML     \n",
      "No. Groups:       5       Scale:              463.7928 \n",
      "Min. group size:  8       Log-Likelihood:     -179.1085\n",
      "Max. group size:  8       Converged:          Yes      \n",
      "Mean group size:  8.0                                  \n",
      "-------------------------------------------------------\n",
      "             Coef.  Std.Err.   z    P>|z| [0.025 0.975]\n",
      "-------------------------------------------------------\n",
      "Intercept    82.550    5.911 13.965 0.000 70.964 94.136\n",
      "sire Var    116.750    6.056                           \n",
      "=======================================================\n",
      "\n"
     ]
    }
   ],
   "source": [
    "md = smf.mixedlm(\"weight ~(1-sire)\", animals, groups=\"sire\" )\n",
    "mdf = md.fit()\n",
    "print(mdf.summary())"
   ]
  },
  {
   "cell_type": "markdown",
   "metadata": {},
   "source": [
    "alpha_hat = 463.7929\n",
    "variance sire =116.750\n",
    "intercept = 82.550"
   ]
  },
  {
   "cell_type": "code",
   "execution_count": 100,
   "metadata": {},
   "outputs": [
    {
     "data": {
      "text/html": [
       "<div>\n",
       "<style scoped>\n",
       "    .dataframe tbody tr th:only-of-type {\n",
       "        vertical-align: middle;\n",
       "    }\n",
       "\n",
       "    .dataframe tbody tr th {\n",
       "        vertical-align: top;\n",
       "    }\n",
       "\n",
       "    .dataframe thead th {\n",
       "        text-align: right;\n",
       "    }\n",
       "</style>\n",
       "<table border=\"1\" class=\"dataframe\">\n",
       "  <thead>\n",
       "    <tr style=\"text-align: right;\">\n",
       "      <th></th>\n",
       "      <th>0</th>\n",
       "      <th>1</th>\n",
       "    </tr>\n",
       "  </thead>\n",
       "  <tbody>\n",
       "    <tr>\n",
       "      <th>Intercept</th>\n",
       "      <td>69.300154</td>\n",
       "      <td>95.799846</td>\n",
       "    </tr>\n",
       "    <tr>\n",
       "      <th>sire Var</th>\n",
       "      <td>-0.378549</td>\n",
       "      <td>0.882005</td>\n",
       "    </tr>\n",
       "  </tbody>\n",
       "</table>\n",
       "</div>"
      ],
      "text/plain": [
       "                   0          1\n",
       "Intercept  69.300154  95.799846\n",
       "sire Var   -0.378549   0.882005"
      ]
     },
     "execution_count": 100,
     "metadata": {},
     "output_type": "execute_result"
    }
   ],
   "source": [
    "mdf.conf_int(alpha=0.025)"
   ]
  },
  {
   "cell_type": "markdown",
   "metadata": {},
   "source": [
    "setting the contrast of the data"
   ]
  },
  {
   "cell_type": "code",
   "execution_count": 99,
   "metadata": {},
   "outputs": [],
   "source": [
    "from patsy.contrasts import Sum\n",
    "levels = [1,2,3,4,5]\n",
    "contrast = Sum().code_without_intercept(levels)"
   ]
  },
  {
   "cell_type": "code",
   "execution_count": 98,
   "metadata": {},
   "outputs": [
    {
     "name": "stdout",
     "output_type": "stream",
     "text": [
      "                sum_sq    df         F    PR(>F)\n",
      "C(sire, Sum)   5591.15   4.0  3.013819  0.030874\n",
      "Residual      16232.75  35.0       NaN       NaN\n"
     ]
    }
   ],
   "source": [
    "aov = ols('weight ~ C(sire, Sum)',data=animals).fit()\n",
    "table = sm.stats.anova_lm(aov, typ=2) # Type 2 ANOVA DataFrame\n",
    "print(table)"
   ]
  },
  {
   "cell_type": "code",
   "execution_count": 97,
   "metadata": {},
   "outputs": [
    {
     "data": {
      "text/html": [
       "<div>\n",
       "<style scoped>\n",
       "    .dataframe tbody tr th:only-of-type {\n",
       "        vertical-align: middle;\n",
       "    }\n",
       "\n",
       "    .dataframe tbody tr th {\n",
       "        vertical-align: top;\n",
       "    }\n",
       "\n",
       "    .dataframe thead th {\n",
       "        text-align: right;\n",
       "    }\n",
       "</style>\n",
       "<table border=\"1\" class=\"dataframe\">\n",
       "  <thead>\n",
       "    <tr style=\"text-align: right;\">\n",
       "      <th></th>\n",
       "      <th>0</th>\n",
       "      <th>1</th>\n",
       "    </tr>\n",
       "  </thead>\n",
       "  <tbody>\n",
       "    <tr>\n",
       "      <th>Intercept</th>\n",
       "      <td>75.637245</td>\n",
       "      <td>89.462755</td>\n",
       "    </tr>\n",
       "    <tr>\n",
       "      <th>C(sire, Sum)[S.1]</th>\n",
       "      <td>-12.750510</td>\n",
       "      <td>14.900510</td>\n",
       "    </tr>\n",
       "    <tr>\n",
       "      <th>C(sire, Sum)[S.2]</th>\n",
       "      <td>1.124490</td>\n",
       "      <td>28.775510</td>\n",
       "    </tr>\n",
       "    <tr>\n",
       "      <th>C(sire, Sum)[S.3]</th>\n",
       "      <td>-33.250510</td>\n",
       "      <td>-5.599490</td>\n",
       "    </tr>\n",
       "    <tr>\n",
       "      <th>C(sire, Sum)[S.4]</th>\n",
       "      <td>-18.875510</td>\n",
       "      <td>8.775510</td>\n",
       "    </tr>\n",
       "  </tbody>\n",
       "</table>\n",
       "</div>"
      ],
      "text/plain": [
       "                           0          1\n",
       "Intercept          75.637245  89.462755\n",
       "C(sire, Sum)[S.1] -12.750510  14.900510\n",
       "C(sire, Sum)[S.2]   1.124490  28.775510\n",
       "C(sire, Sum)[S.3] -33.250510  -5.599490\n",
       "C(sire, Sum)[S.4] -18.875510   8.775510"
      ]
     },
     "execution_count": 97,
     "metadata": {},
     "output_type": "execute_result"
    }
   ],
   "source": [
    "aov.conf_int(alpha=0.05)"
   ]
  },
  {
   "cell_type": "code",
   "execution_count": 186,
   "metadata": {},
   "outputs": [
    {
     "data": {
      "text/plain": [
       "{1: sire    0.71831\n",
       " dtype: float64,\n",
       " 2: sire    9.989525\n",
       " dtype: float64,\n",
       " 3: sire   -12.9797\n",
       " dtype: float64,\n",
       " 4: sire   -3.374388\n",
       " dtype: float64,\n",
       " 5: sire    5.646253\n",
       " dtype: float64}"
      ]
     },
     "execution_count": 186,
     "metadata": {},
     "output_type": "execute_result"
    }
   ],
   "source": [
    "randomeffect=mdf.random_effects\n",
    "randomeffect"
   ]
  },
  {
   "cell_type": "code",
   "execution_count": 197,
   "metadata": {},
   "outputs": [
    {
     "data": {
      "image/png": "[encoded data removed]",
      "text/plain": [
       "<Figure size 432x288 with 1 Axes>"
      ]
     },
     "metadata": {
      "needs_background": "light"
     },
     "output_type": "display_data"
    }
   ],
   "source": [
    "x=np.array(mdf.fittedvalues)\n",
    "y=np.array(mdf.resid)\n",
    "fig, ax = plt.subplots()\n",
    "plt.scatter(x, y,s = 150, c = 'red', marker = '.')\n",
    "plt.title('Residual Dependence Plot')\n",
    "plt.ylabel('Pearson Residuals')\n",
    "plt.xlabel('Fitted values')\n",
    "plt.show()"
   ]
  },
  {
   "cell_type": "code",
   "execution_count": 216,
   "metadata": {},
   "outputs": [
    {
     "data": {
      "image/png": "[encoded data removed]",
      "text/plain": [
       "<Figure size 432x288 with 1 Axes>"
      ]
     },
     "metadata": {
      "needs_background": "light"
     },
     "output_type": "display_data"
    },
    {
     "data": {
      "image/png": "[encoded data removed]",
      "text/plain": [
       "<Figure size 432x288 with 1 Axes>"
      ]
     },
     "metadata": {
      "needs_background": "light"
     },
     "output_type": "display_data"
    }
   ],
   "source": [
    "fig, ax = plt.subplots()\n",
    "Y_hat=np.random.normal(0,1,40)\n",
    "pp_x = sm.ProbPlot(y, fit=True)\n",
    "pp_y = sm.ProbPlot(Y_hat, fit=True)\n",
    "fig = pp_x.qqplot(line='45', other=pp_y)\n",
    "plt.show()"
   ]
  }
 ],
 "metadata": {
  "kernelspec": {
   "display_name": "Python 3",
   "language": "python",
   "name": "python3"
  },
  "language_info": {
   "codemirror_mode": {
    "name": "ipython",
    "version": 3
   },
   "file_extension": ".py",
   "mimetype": "text/x-python",
   "name": "python",
   "nbconvert_exporter": "python",
   "pygments_lexer": "ipython3",
   "version": "3.8.3"
  }
 },
 "nbformat": 4,
 "nbformat_minor": 4
}
